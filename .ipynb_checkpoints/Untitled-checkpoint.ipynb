{
 "cells": [
  {
   "cell_type": "code",
   "execution_count": 1,
   "id": "a7706f22-8995-449b-a2b7-03631c71d7d5",
   "metadata": {},
   "outputs": [],
   "source": [
    "import redback\n",
    "from  redback.transient_models.afterglow_models import tophat\n",
    "from  redback.transient_models.afterglow_models import tophat_from_emulator\n",
    "from redback_surrogates.afterglowmodels import tophat_emulator\n",
    "import numpy as np\n",
    "import matplotlib as mpl\n",
    "mpl.rcParams.update(mpl.rcParamsDefault)\n",
    "import matplotlib.pyplot as plt\n",
    "%load_ext line_profiler"
   ]
  },
  {
   "cell_type": "code",
   "execution_count": 7,
   "id": "79c54dfa-5624-44f3-899f-7c9d0079dfdc",
   "metadata": {},
   "outputs": [],
   "source": [
    "params={}\n",
    "\n",
    "params['av'] = 0.5\n",
    "params['loge0'] = 49.5\n",
    "params['logn0'] = 0.5 \n",
    "params['p'] = 2.3\n",
    "params['logepse'] = -1.25\n",
    "params['logepsb'] = -2.5\n",
    "params['g0'] = 1000\n",
    "params['thv']= 0.5\n",
    "params['thc'] = 0.06\n",
    "params['output_format']='flux_density'\n",
    "\n",
    "time=np.linspace(1,40,1000)\n",
    "flux2 = tophat_from_emulator(time, **params, frequency=3e14)\n",
    "params['redshift']=0.01\n",
    "params['ksin']=1\n",
    "flux = tophat(time, **params, frequency=3e14)\n"
   ]
  },
  {
   "cell_type": "code",
   "execution_count": 8,
   "id": "0548ffd7-4a73-4d80-9221-49d6c4f72935",
   "metadata": {},
   "outputs": [
    {
     "data": {
      "image/png": "[encoded data removed]",
      "text/plain": [
       "<Figure size 640x480 with 1 Axes>"
      ]
     },
     "metadata": {},
     "output_type": "display_data"
    }
   ],
   "source": [
    "ax=plt.subplot()\n",
    "ax.loglog(time, flux)\n",
    "ax.loglog(time, flux2)\n",
    "plt.show()"
   ]
  },
  {
   "cell_type": "code",
   "execution_count": 9,
   "id": "d2130d47-5503-49e8-896d-f8436be99898",
   "metadata": {},
   "outputs": [
    {
     "name": "stdout",
     "output_type": "stream",
     "text": [
      "1.05 ms ± 86.9 µs per loop (mean ± std. dev. of 7 runs, 1,000 loops each)\n"
     ]
    }
   ],
   "source": [
    "%%timeit \n",
    "flux2 = tophat_from_emulator(time, **params, frequency=3e14)"
   ]
  },
  {
   "cell_type": "code",
   "execution_count": 10,
   "id": "685a3bd7-8915-4d1e-93b7-c6219c7113e9",
   "metadata": {},
   "outputs": [
    {
     "name": "stdout",
     "output_type": "stream",
     "text": [
      "12.5 ms ± 915 µs per loop (mean ± std. dev. of 7 runs, 100 loops each)\n"
     ]
    }
   ],
   "source": [
    "%%timeit\n",
    "flux = tophat(time, **params, frequency=3e14)"
   ]
  },
  {
   "cell_type": "code",
   "execution_count": 10,
   "id": "540db75e-351b-45c2-9631-e8fa2edf41ff",
   "metadata": {},
   "outputs": [
    {
     "data": {
      "text/plain": [
       "Timer unit: 1e-09 s\n",
       "\n",
       "Total time: 0.0148788 s\n",
       "File: /home/wfw23/redback_surrogates/redback_surrogates/afterglowmodels.py\n",
       "Function: tophat_emulator at line 14\n",
       "\n",
       "Line #      Hits         Time  Per Hit   % Time  Line Contents\n",
       "==============================================================\n",
       "    14                                           def tophat_emulator(new_time, test_data):\n",
       "    15                                               \"\"\"\n",
       "    16                                               tophat afterglow model using trained mpl regressor\n",
       "    17                                           \n",
       "    18                                               :param new_time: time in days in observer frame to evaluate at\n",
       "    19                                               :param test_data: array of shape (n samples, 9 features), where 9 features corresponds to the tophat params excluding redshift and ksin, fixed at 0.01 and 1\n",
       "    20                                                   The 9 features must be preprocessed and given in order of log10(thv) , loge0 , log10(thc), logn0, p, logepse, logepsb, log10(g0), log10(frequency)\n",
       "    21                                               :return: flux density at each time for given frequency\n",
       "    22                                               \"\"\"\n",
       "    23                                               \n",
       "    24         1     261290.0 261290.0      1.8      time=np.linspace(0.1,300,150)\n",
       "    25         1     833157.0 833157.0      5.6      xtests= scalerx.transform(test_data)\n",
       "    26         1   12160672.0    1e+07     81.7      prediction= model.predict(xtests)\n",
       "    27         1     883336.0 883336.0      5.9      prediction = 10**(scalery.inverse_transform(prediction))\n",
       "    28                                           \n",
       "    29         1     384765.0 384765.0      2.6      afterglow = interpolate.interp1d(time, prediction, kind='linear')\n",
       "    30         1     351061.0 351061.0      2.4      fluxd= afterglow(new_time)\n",
       "    31                                               \n",
       "    32         1       2562.0   2562.0      0.0      if test_data.shape == (1,9):\n",
       "    33         1       2002.0   2002.0      0.0          return fluxd[0]\n",
       "    34                                               else:\n",
       "    35                                                   return np.diag(fluxd)"
      ]
     },
     "metadata": {},
     "output_type": "display_data"
    }
   ],
   "source": [
    "%lprun -f tophat_emulator flux2 = tophat_from_emulator(time, **params, frequency=3e14)"
   ]
  },
  {
   "cell_type": "code",
   "execution_count": 12,
   "id": "de82a415-b7c6-4968-872b-70214492b56f",
   "metadata": {},
   "outputs": [
    {
     "data": {
      "text/plain": [
       "Timer unit: 1e-09 s\n",
       "\n",
       "Total time: 0.065877 s\n",
       "File: /home/wfw23/redback_surrogates/redback_surrogates/afterglowmodels.py\n",
       "Function: tophat_emulator at line 14\n",
       "\n",
       "Line #      Hits         Time  Per Hit   % Time  Line Contents\n",
       "==============================================================\n",
       "    14                                           def tophat_emulator(new_time, test_data):\n",
       "    15                                               \"\"\"\n",
       "    16                                               tophat afterglow model using trained mpl regressor\n",
       "    17                                           \n",
       "    18                                               :param new_time: time in days in observer frame to evaluate at\n",
       "    19                                               :param test_data: array of shape (n samples, 9 features), where 9 features corresponds to the tophat params excluding redshift and ksin, fixed at 0.01 and 1\n",
       "    20                                                   The 9 features must be preprocessed and given in order of log10(thv) , loge0 , log10(thc), logn0, p, logepse, logepsb, log10(g0), log10(frequency)\n",
       "    21                                               :return: flux density at each time for given frequency\n",
       "    22                                               \"\"\"\n",
       "    23                                               \n",
       "    24         1     139535.0 139535.0      0.2      time=np.linspace(0.1,300,150)\n",
       "    25         1    2300751.0    2e+06      3.5      xtests= scalerx.transform(test_data)\n",
       "    26         1   59279649.0    6e+07     90.0      prediction= model.predict(xtests)\n",
       "    27         1    2486394.0    2e+06      3.8      prediction = 10**(scalery.inverse_transform(prediction))\n",
       "    28                                           \n",
       "    29         1     613877.0 613877.0      0.9      afterglow = interpolate.interp1d(time, prediction, kind='linear')\n",
       "    30         1     970663.0 970663.0      1.5      fluxd= afterglow(new_time)\n",
       "    31                                               \n",
       "    32         1       3531.0   3531.0      0.0      if test_data.shape == (1,9):\n",
       "    33                                                   return fluxd[0]\n",
       "    34                                               else:\n",
       "    35         1      82580.0  82580.0      0.1          return np.diag(fluxd)"
      ]
     },
     "metadata": {},
     "output_type": "display_data"
    }
   ],
   "source": [
    "%lprun -f tophat_emulator flux2 = tophat_from_emulator(time, **params, frequency=np.linspace(3e13, 5e14, 100))"
   ]
  },
  {
   "cell_type": "code",
   "execution_count": 11,
   "id": "cd3f13c7-8b46-4220-8785-06ee73039490",
   "metadata": {},
   "outputs": [
    {
     "data": {
      "text/plain": [
       "-1.0"
      ]
     },
     "execution_count": 11,
     "metadata": {},
     "output_type": "execute_result"
    }
   ],
   "source": []
  },
  {
   "cell_type": "code",
   "execution_count": null,
   "id": "043e131e-8aa0-432a-9874-74b63b8b0228",
   "metadata": {},
   "outputs": [],
   "source": []
  }
 ],
 "metadata": {
  "kernelspec": {
   "display_name": "Python 3 (ipykernel)",
   "language": "python",
   "name": "python3"
  },
  "language_info": {
   "codemirror_mode": {
    "name": "ipython",
    "version": 3
   },
   "file_extension": ".py",
   "mimetype": "text/x-python",
   "name": "python",
   "nbconvert_exporter": "python",
   "pygments_lexer": "ipython3",
   "version": "3.9.17"
  }
 },
 "nbformat": 4,
 "nbformat_minor": 5
}
