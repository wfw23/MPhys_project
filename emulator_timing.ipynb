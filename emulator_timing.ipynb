{
 "cells": [
  {
   "cell_type": "code",
   "execution_count": 1,
   "id": "a7706f22-8995-449b-a2b7-03631c71d7d5",
   "metadata": {},
   "outputs": [],
   "source": [
    "import redback\n",
    "from  redback.transient_models.afterglow_models import tophat\n",
    "from  redback.transient_models.afterglow_models import tophat_from_emulator, tophat_redback\n",
    "from redback_surrogates.afterglowmodels import tophat_emulator\n",
    "import numpy as np\n",
    "import matplotlib as mpl\n",
    "mpl.rcParams.update(mpl.rcParamsDefault)\n",
    "import matplotlib.pyplot as plt\n",
    "%load_ext line_profiler\n",
    "import pickle\n",
    "from scipy import interpolate"
   ]
  },
  {
   "cell_type": "code",
   "execution_count": 20,
   "id": "79c54dfa-5624-44f3-899f-7c9d0079dfdc",
   "metadata": {},
   "outputs": [],
   "source": [
    "params={}\n",
    "\n",
    "params['av'] = 0.5\n",
    "params['loge0'] = 49.5\n",
    "params['logn0'] = 0.5 \n",
    "params['p'] = 2.3\n",
    "params['logepse'] = -1.25\n",
    "params['logepsb'] = -2.5\n",
    "params['g0'] = 1000\n",
    "params['thv']= 0.5\n",
    "params['thc'] = 0.06\n",
    "params['output_format']='flux_density'\n",
    "#params['frequency']=3e14\n",
    "\n",
    "time=np.linspace(0.1,40,200)\n",
    "flux2 = tophat_from_emulator(time, **params, frequency=3e14)\n",
    "params['redshift']=0.01\n",
    "params['xiN']=1\n",
    "flux = tophat_redback(time, **params, frequency=3e14)\n"
   ]
  },
  {
   "cell_type": "code",
   "execution_count": 21,
   "id": "0548ffd7-4a73-4d80-9221-49d6c4f72935",
   "metadata": {},
   "outputs": [
    {
     "data": {
      "image/png": "[encoded data removed]",
      "text/plain": [
       "<Figure size 640x480 with 1 Axes>"
      ]
     },
     "metadata": {},
     "output_type": "display_data"
    }
   ],
   "source": [
    "ax=plt.subplot()\n",
    "ax.loglog(time, flux, label='func')\n",
    "ax.loglog(time, flux2, label='emulator')\n",
    "plt.legend()\n",
    "plt.show()"
   ]
  },
  {
   "cell_type": "code",
   "execution_count": 22,
   "id": "d2130d47-5503-49e8-896d-f8436be99898",
   "metadata": {},
   "outputs": [
    {
     "name": "stdout",
     "output_type": "stream",
     "text": [
      "1.17 ms ± 433 µs per loop (mean ± std. dev. of 7 runs, 1,000 loops each)\n"
     ]
    }
   ],
   "source": [
    "%%timeit \n",
    "flux2 = tophat_from_emulator(time, **params, frequency=3e14)"
   ]
  },
  {
   "cell_type": "code",
   "execution_count": 23,
   "id": "685a3bd7-8915-4d1e-93b7-c6219c7113e9",
   "metadata": {},
   "outputs": [
    {
     "name": "stdout",
     "output_type": "stream",
     "text": [
      "30.3 ms ± 4.22 ms per loop (mean ± std. dev. of 7 runs, 10 loops each)\n"
     ]
    }
   ],
   "source": [
    "%%timeit\n",
    "flux = tophat_redback(time, **params, frequency=3e14)"
   ]
  },
  {
   "cell_type": "code",
   "execution_count": 33,
   "id": "540db75e-351b-45c2-9631-e8fa2edf41ff",
   "metadata": {},
   "outputs": [
    {
     "data": {
      "text/plain": [
       "Timer unit: 1e-09 s\n",
       "\n",
       "Total time: 0.0259628 s\n",
       "File: /home/wfw23/redback_surrogates/redback_surrogates/afterglowmodels.py\n",
       "Function: tophat_emulator at line 14\n",
       "\n",
       "Line #      Hits         Time  Per Hit   % Time  Line Contents\n",
       "==============================================================\n",
       "    14                                           def tophat_emulator(new_time, test_data):\n",
       "    15                                               \"\"\"\n",
       "    16                                               tophat afterglow model using trained mpl regressor\n",
       "    17                                           \n",
       "    18                                               :param new_time: time in days in observer frame to evaluate at\n",
       "    19                                               :param test_data: array of shape (n samples, 9 features), where 9 features corresponds to the tophat params excluding redshift and ksin, fixed at 0.01 and 1\n",
       "    20                                                   The 9 features must be preprocessed and given in order of log10(thv) , loge0 , log10(thc), logn0, p, logepse, logepsb, log10(g0), log10(frequency)\n",
       "    21                                               :return: flux density at each time for given frequency\n",
       "    22                                               \"\"\"\n",
       "    23                                               \n",
       "    24                                               #time=np.linspace(0.1,300,150)\n",
       "    25         1      80823.0  80823.0      0.3      time = np.linspace(0.1, 1, 10)\n",
       "    26         1    1422810.0    1e+06      5.5      time=np.insert(time,10,np.linspace(1.2,10,20))\n",
       "    27         1     265727.0 265727.0      1.0      time=np.insert(time,30,np.linspace(12,300,70))\n",
       "    28         1     330840.0 330840.0      1.3      xtests= scalerx.transform(test_data)\n",
       "    29         1   21699249.0    2e+07     83.6      prediction= model.predict(xtests)\n",
       "    30         1     337385.0 337385.0      1.3      prediction = 10**(scalery.inverse_transform(prediction))\n",
       "    31                                           \n",
       "    32         1     139462.0 139462.0      0.5      afterglow = interpolate.interp1d(time, prediction, kind='linear')\n",
       "    33         1    1682639.0    2e+06      6.5      fluxd= afterglow(new_time)\n",
       "    34                                               \n",
       "    35         1       2879.0   2879.0      0.0      if test_data.shape == (1,9):\n",
       "    36         1        939.0    939.0      0.0          return fluxd[0]\n",
       "    37                                               else:\n",
       "    38                                                   return np.diag(fluxd)"
      ]
     },
     "metadata": {},
     "output_type": "display_data"
    }
   ],
   "source": [
    "%lprun -f tophat_emulator flux2 = tophat_from_emulator(time, **params, frequency=3e14)"
   ]
  },
  {
   "cell_type": "code",
   "execution_count": 34,
   "id": "de82a415-b7c6-4968-872b-70214492b56f",
   "metadata": {},
   "outputs": [
    {
     "data": {
      "text/plain": [
       "Timer unit: 1e-09 s\n",
       "\n",
       "Total time: 0.0243051 s\n",
       "File: /home/wfw23/redback_surrogates/redback_surrogates/afterglowmodels.py\n",
       "Function: tophat_emulator at line 14\n",
       "\n",
       "Line #      Hits         Time  Per Hit   % Time  Line Contents\n",
       "==============================================================\n",
       "    14                                           def tophat_emulator(new_time, test_data):\n",
       "    15                                               \"\"\"\n",
       "    16                                               tophat afterglow model using trained mpl regressor\n",
       "    17                                           \n",
       "    18                                               :param new_time: time in days in observer frame to evaluate at\n",
       "    19                                               :param test_data: array of shape (n samples, 9 features), where 9 features corresponds to the tophat params excluding redshift and ksin, fixed at 0.01 and 1\n",
       "    20                                                   The 9 features must be preprocessed and given in order of log10(thv) , loge0 , log10(thc), logn0, p, logepse, logepsb, log10(g0), log10(frequency)\n",
       "    21                                               :return: flux density at each time for given frequency\n",
       "    22                                               \"\"\"\n",
       "    23                                               \n",
       "    24                                               #time=np.linspace(0.1,300,150)\n",
       "    25         1      52464.0  52464.0      0.2      time = np.linspace(0.1, 1, 10)\n",
       "    26         1     100104.0 100104.0      0.4      time=np.insert(time,10,np.linspace(1.2,10,20))\n",
       "    27         1    3315519.0    3e+06     13.6      time=np.insert(time,30,np.linspace(12,300,70))\n",
       "    28         1     821859.0 821859.0      3.4      xtests= scalerx.transform(test_data)\n",
       "    29         1    6280789.0    6e+06     25.8      prediction= model.predict(xtests)\n",
       "    30         1     672907.0 672907.0      2.8      prediction = 10**(scalery.inverse_transform(prediction))\n",
       "    31                                           \n",
       "    32         1     206127.0 206127.0      0.8      afterglow = interpolate.interp1d(time, prediction, kind='linear')\n",
       "    33         1   12829857.0    1e+07     52.8      fluxd= afterglow(new_time)\n",
       "    34                                               \n",
       "    35         1       2861.0   2861.0      0.0      if test_data.shape == (1,9):\n",
       "    36                                                   return fluxd[0]\n",
       "    37                                               else:\n",
       "    38         1      22654.0  22654.0      0.1          return np.diag(fluxd)"
      ]
     },
     "metadata": {},
     "output_type": "display_data"
    }
   ],
   "source": [
    "%lprun -f tophat_emulator flux2 = tophat_from_emulator(time, **params, frequency=np.linspace(3e13, 5e14, 200))"
   ]
  },
  {
   "cell_type": "code",
   "execution_count": 35,
   "id": "ccef54f1-6568-4963-bfaf-a245183d113c",
   "metadata": {},
   "outputs": [
    {
     "data": {
      "text/plain": [
       "Timer unit: 1e-09 s\n",
       "\n",
       "Total time: 0.064769 s\n",
       "File: /home/wfw23/redback/redback/transient_models/afterglow_models.py\n",
       "Function: tophat_redback at line 835\n",
       "\n",
       "Line #      Hits         Time  Per Hit   % Time  Line Contents\n",
       "==============================================================\n",
       "   835                                           @citation_wrapper('redback, https://ui.adsabs.harvard.edu/abs/2018MNRAS.481.2581L/abstract')\n",
       "   836                                           def tophat_redback(time, redshift, thv, loge0, thc, logn0, p, logepse, logepsb, g0, xiN, **kwargs):\n",
       "   837                                               \"\"\"\n",
       "   838                                               A tophat model implemented directly in redback. Based on Lamb, Mandel & Resmi 2018 and other work.\n",
       "   839                                               Look at the RedbackAfterglow class for more details/implementation.\n",
       "   840                                           \n",
       "   841                                               :param time: time in days\n",
       "   842                                               :param redshift: source redshift\n",
       "   843                                               :param thv: observer viewing angle in radians\n",
       "   844                                               :param loge0: jet energy in \\log_{10} ergs\n",
       "   845                                               :param thc: jet opening angle in radians\n",
       "   846                                               :param logn0: ism number density in \\log_{10} cm^-3 or \\log_{10} A* for wind-like density profile\n",
       "   847                                               :param p: electron power law index\n",
       "   848                                               :param logepse: partition fraction in electrons\n",
       "   849                                               :param logepsb: partition fraction in magnetic field\n",
       "   850                                               :param g0: initial lorentz factor\n",
       "   851                                               :param xiN: fraction of electrons that get accelerated. Defaults to 1.\n",
       "   852                                               :param kwargs: additional keyword arguments\n",
       "   853                                               :param res: resolution - set dynamically based on afterglow properties by default,\n",
       "   854                                                       but can be set manually to a specific number.\n",
       "   855                                               :param steps: number of steps used to resolve Gamma and dm. Defaults to 250 but can be set manually.\n",
       "   856                                               :param k: power law index of density profile. Defaults to 0 for constant density.\n",
       "   857                                                   Can be set to 2 for wind-like density profile.\n",
       "   858                                               :param expansion: 0 or 1 to dictate whether to include expansion effects. Defaults to 1\n",
       "   859                                               :param output_format: Whether to output flux density or AB mag\n",
       "   860                                               :param frequency: frequency in Hz for the flux density calculation\n",
       "   861                                               :param cosmology: Cosmology to use for luminosity distance calculation. Defaults to Planck18. Must be a astropy.cosmology object.\n",
       "   862                                               :return: flux density or AB mag. Note this is going to give the monochromatic magnitude at the effective frequency for the band.\n",
       "   863                                                   For a proper calculation of the magntitude use the sed variant models.\n",
       "   864                                               \"\"\"\n",
       "   865         1       1991.0   1991.0      0.0      frequency = kwargs['frequency']\n",
       "   866         1        657.0    657.0      0.0      if isinstance(frequency, float):\n",
       "   867         1      82427.0  82427.0      0.1          frequency = np.ones(len(time)) * frequency\n",
       "   868         1       1041.0   1041.0      0.0      k = kwargs.get('k', 0)\n",
       "   869         1        378.0    378.0      0.0      exp = kwargs.get('expansion', 1)\n",
       "   870         1       3010.0   3010.0      0.0      epse = 10 ** logepse\n",
       "   871         1        375.0    375.0      0.0      epsb = 10 ** logepsb\n",
       "   872         1        298.0    298.0      0.0      nism = 10 ** logn0\n",
       "   873         1        331.0    331.0      0.0      e0 = 10 ** loge0\n",
       "   874         1       6166.0   6166.0      0.0      time = time * day_to_s\n",
       "   875         1        872.0    872.0      0.0      cosmology = kwargs.get('cosmology', cosmo)\n",
       "   876         1     403638.0 403638.0      0.6      dl = cosmology.luminosity_distance(redshift).cgs.value\n",
       "   877         1        328.0    328.0      0.0      method = 'TH'\n",
       "   878         1        839.0    839.0      0.0      s, a = 0.01, 0.5\n",
       "   879                                           \n",
       "   880                                               # Set resolution dynamically\n",
       "   881         1       1145.0   1145.0      0.0      sep = max(thv - thc, 0)\n",
       "   882         1       2056.0   2056.0      0.0      order = min(int((2 - 10 * sep) * thc * g0), 100)\n",
       "   883         1        645.0    645.0      0.0      default_res = max(10, order)\n",
       "   884         1        730.0    730.0      0.0      res = kwargs.get('res', default_res)\n",
       "   885         1        686.0    686.0      0.0      steps = kwargs.get('steps', 250)\n",
       "   886         2      25899.0  12949.5      0.0      ag_class = RedbackAfterglows(k=k, n=nism, epse=epse, epsb=epsb, g0=g0, ek=e0, thc=thc, thj=thc, tho=thv, p=p, exp=exp,\n",
       "   887         1        254.0    254.0      0.0                                  time=time, freq=frequency, redshift=redshift, Dl=dl, method=method,\n",
       "   888         1        166.0    166.0      0.0                                   extra_structure_parameter_1=s, extra_structure_parameter_2=a,\n",
       "   889         1        193.0    193.0      0.0                                   res=res, xiN=xiN, steps=steps)\n",
       "   890         1   64229417.0    6e+07     99.2      flux_density = ag_class.get_lightcurve()\n",
       "   891         1       3831.0   3831.0      0.0      fmjy = flux_density / 1e-26\n",
       "   892         1       1547.0   1547.0      0.0      if kwargs['output_format'] == 'flux_density':\n",
       "   893         1        127.0    127.0      0.0          return fmjy\n",
       "   894                                               elif kwargs['output_format'] == 'magnitude':\n",
       "   895                                                   return calc_ABmag_from_flux_density(fmjy).value"
      ]
     },
     "metadata": {},
     "output_type": "display_data"
    }
   ],
   "source": [
    "%lprun -f tophat_redback flux = tophat_redback(time, **params, frequency=3e14)"
   ]
  },
  {
   "cell_type": "code",
   "execution_count": 36,
   "id": "4d5d6e42-7d8b-4731-9dfb-2c45faa77ccb",
   "metadata": {},
   "outputs": [
    {
     "data": {
      "text/plain": [
       "Timer unit: 1e-09 s\n",
       "\n",
       "Total time: 0.0580897 s\n",
       "File: /home/wfw23/redback_surrogates/redback_surrogates/afterglowmodels.py\n",
       "Function: tophat_emulator at line 14\n",
       "\n",
       "Line #      Hits         Time  Per Hit   % Time  Line Contents\n",
       "==============================================================\n",
       "    14                                           def tophat_emulator(new_time, test_data):\n",
       "    15                                               \"\"\"\n",
       "    16                                               tophat afterglow model using trained mpl regressor\n",
       "    17                                           \n",
       "    18                                               :param new_time: time in days in observer frame to evaluate at\n",
       "    19                                               :param test_data: array of shape (n samples, 9 features), where 9 features corresponds to the tophat params excluding redshift and ksin, fixed at 0.01 and 1\n",
       "    20                                                   The 9 features must be preprocessed and given in order of log10(thv) , loge0 , log10(thc), logn0, p, logepse, logepsb, log10(g0), log10(frequency)\n",
       "    21                                               :return: flux density at each time for given frequency\n",
       "    22                                               \"\"\"\n",
       "    23                                               \n",
       "    24                                               #time=np.linspace(0.1,300,150)\n",
       "    25         1      40435.0  40435.0      0.1      time = np.linspace(0.1, 1, 10)\n",
       "    26         1     109815.0 109815.0      0.2      time=np.insert(time,10,np.linspace(1.2,10,20))\n",
       "    27         1      46694.0  46694.0      0.1      time=np.insert(time,30,np.linspace(12,300,70))\n",
       "    28         1     558966.0 558966.0      1.0      xtests= scalerx.transform(test_data)\n",
       "    29         1   56176893.0    6e+07     96.7      prediction= model.predict(xtests)\n",
       "    30         1     641282.0 641282.0      1.1      prediction = 10**(scalery.inverse_transform(prediction))\n",
       "    31                                           \n",
       "    32         1     195870.0 195870.0      0.3      afterglow = interpolate.interp1d(time, prediction, kind='linear')\n",
       "    33         1     305138.0 305138.0      0.5      fluxd= afterglow(new_time)\n",
       "    34                                               \n",
       "    35         1       1341.0   1341.0      0.0      if test_data.shape == (1,9):\n",
       "    36                                                   return fluxd[0]\n",
       "    37                                               else:\n",
       "    38         1      13221.0  13221.0      0.0          return np.diag(fluxd)"
      ]
     },
     "metadata": {},
     "output_type": "display_data"
    }
   ],
   "source": [
    "%lprun -f tophat_emulator flux2 = tophat_from_emulator(time, **params, frequency=np.linspace(3e13, 5e14, 100))"
   ]
  },
  {
   "cell_type": "code",
   "execution_count": 8,
   "id": "043e131e-8aa0-432a-9874-74b63b8b0228",
   "metadata": {},
   "outputs": [],
   "source": [
    "with open(\"tophat_redback.pkl\", \"rb\") as f:\n",
    "    model = pickle.load(f)\n",
    "with open(\"scalery_redback.pkl\", \"rb\") as sy:\n",
    "    scalery = pickle.load(sy)\n",
    "with open(\"scalerx_redback.pkl\", \"rb\") as sx:\n",
    "    scalerx = pickle.load(sx)"
   ]
  },
  {
   "cell_type": "code",
   "execution_count": 9,
   "id": "828e6daa-1128-4dd1-b939-5899a0cc0a57",
   "metadata": {},
   "outputs": [],
   "source": [
    "with open(\"tophat_redback2.pkl\", \"rb\") as f:\n",
    "    model2 = pickle.load(f)\n",
    "with open(\"scalery_redback2.pkl\", \"rb\") as sy:\n",
    "    scalery2 = pickle.load(sy)\n",
    "with open(\"scalerx_redback2.pkl\", \"rb\") as sx:\n",
    "    scalerx2 = pickle.load(sx)"
   ]
  },
  {
   "cell_type": "code",
   "execution_count": 10,
   "id": "095cc71c-8b10-4da7-b7a6-bd645645f059",
   "metadata": {},
   "outputs": [],
   "source": [
    "with open(\"tophat_redback3.pkl\", \"rb\") as f:\n",
    "    model3 = pickle.load(f)\n",
    "with open(\"scalery_redback3.pkl\", \"rb\") as sy:\n",
    "    scalery3 = pickle.load(sy)\n",
    "with open(\"scalerx_redback3.pkl\", \"rb\") as sx:\n",
    "    scalerx3 = pickle.load(sx)"
   ]
  },
  {
   "cell_type": "code",
   "execution_count": 111,
   "id": "94f75cf3-790d-44d7-937a-c79a08ad610f",
   "metadata": {},
   "outputs": [],
   "source": [
    "with open(\"tophat_redback4.pkl\", \"rb\") as f:\n",
    "    model4 = pickle.load(f)\n",
    "with open(\"scalery_redback4.pkl\", \"rb\") as sy:\n",
    "    scalery4 = pickle.load(sy)\n",
    "with open(\"scalerx_redback4.pkl\", \"rb\") as sx:\n",
    "    scalerx4 = pickle.load(sx)"
   ]
  },
  {
   "cell_type": "code",
   "execution_count": 27,
   "id": "3d274f56-e66a-4cae-b5be-2798c0b1d81d",
   "metadata": {},
   "outputs": [],
   "source": [
    "#time1\n",
    "time1 = np.linspace(0.1, 1, 10) #20 pints bewteen 0.1 and 1 day\n",
    "time1=np.insert(time1,10,np.linspace(1.2,10,20))\n",
    "time1=np.insert(time1,30,np.linspace(12,300,70))"
   ]
  },
  {
   "cell_type": "code",
   "execution_count": 33,
   "id": "7540b15b-1f25-4161-bc28-a60b9f3de2d2",
   "metadata": {},
   "outputs": [],
   "source": [
    "#time2\n",
    "time2 = np.linspace(0.1, 1, 10) #20 pints bewteen 0.1 and 1 day\n",
    "time2=np.insert(time2,10,np.linspace(1.2,10,30))\n",
    "time2=np.insert(time2,40,np.linspace(12,300,110))"
   ]
  },
  {
   "cell_type": "code",
   "execution_count": 34,
   "id": "0a1140a3-0bea-4548-8691-a633ebae19b2",
   "metadata": {},
   "outputs": [],
   "source": [
    "#time3\n",
    "time3 = np.linspace(0.1, 1, 10) #20 pints bewteen 0.1 and 1 day\n",
    "time3=np.insert(time3,10,np.linspace(1.2,10,30))\n",
    "time3=np.insert(time3,40,np.linspace(12,300,60))"
   ]
  },
  {
   "cell_type": "code",
   "execution_count": 112,
   "id": "ff2ae13d-5507-4e42-a208-ea74389e3618",
   "metadata": {},
   "outputs": [],
   "source": [
    "time4 = np.linspace(0.1, 1, 10) #20 pints bewteen 0.1 and 1 day\n",
    "time4=np.insert(time4,10,np.linspace(1.2,10,20))\n",
    "time4=np.insert(time4,30,np.linspace(12,100,30))\n",
    "time4=np.insert(time4,60,np.linspace(102,300,40))"
   ]
  },
  {
   "cell_type": "code",
   "execution_count": 113,
   "id": "c3476a03-181d-4c6e-9ebf-f4d7e6268cfd",
   "metadata": {},
   "outputs": [],
   "source": [
    "params={}\n",
    "params['thv']= np.log10(0.5)\n",
    "params['loge0'] = 49.5\n",
    "params['thc'] = np.log10(0.06)\n",
    "params['logn0'] = 0.5 \n",
    "params['p'] = 2.3\n",
    "params['logepse'] = -1.25\n",
    "params['logepsb'] = -2.5\n",
    "params['g0'] = np.log10(1000)\n",
    "params['frequency']=np.log10(3e14)\n",
    "test_data=np.fromiter(params.values(),dtype=float).reshape(1,-1)"
   ]
  },
  {
   "cell_type": "code",
   "execution_count": 190,
   "id": "fead7c53-cd5f-482c-a774-2babe23c4057",
   "metadata": {},
   "outputs": [],
   "source": [
    "\n",
    "xtests= scalerx.transform(test_data)\n",
    "prediction= model.predict(xtests)\n",
    "prediction = 10**(scalery.inverse_transform(prediction))\n",
    "afterglow1 = interpolate.interp1d(time1, prediction, kind='linear')\n",
    "\n",
    "xtests= scalerx2.transform(test_data)\n",
    "prediction= model2.predict(xtests)\n",
    "prediction = 10**(scalery2.inverse_transform(prediction))\n",
    "afterglow2 = interpolate.interp1d(time2, prediction, kind='linear')\n",
    "\n",
    "xtests= scalerx3.transform(test_data)\n",
    "prediction= model3.predict(xtests)\n",
    "prediction = 10**(scalery3.inverse_transform(prediction))\n",
    "afterglow3 = interpolate.interp1d(time3, prediction, kind='linear')\n",
    "\n",
    "xtests= scalerx4.transform(test_data)\n",
    "prediction= model4.predict(xtests)\n",
    "prediction = 10**(scalery4.inverse_transform(prediction))\n",
    "afterglow4 = interpolate.interp1d(time4, prediction, kind='linear')\n",
    "\n",
    "new_time= np.linspace(0.1,50,50)\n",
    "fluxd1= afterglow1(new_time)\n",
    "fluxd2= afterglow2(new_time)\n",
    "fluxd3= afterglow3(new_time)\n",
    "fluxd4= afterglow4(new_time)"
   ]
  },
  {
   "cell_type": "code",
   "execution_count": 191,
   "id": "4598c473-103a-4987-ac7b-9d426f469089",
   "metadata": {},
   "outputs": [
    {
     "data": {
      "image/png": "[encoded data removed]",
      "text/plain": [
       "<Figure size 640x480 with 1 Axes>"
      ]
     },
     "metadata": {},
     "output_type": "display_data"
    }
   ],
   "source": [
    "ax=plt.subplot()\n",
    "ax.loglog(new_time, fluxd1[0], alpha=0.5)\n",
    "#ax.loglog(new_time, fluxd2[0],alpha=0.5)\n",
    "#ax.loglog(new_time, fluxd3[0],alpha=0.5)\n",
    "ax.loglog(new_time, fluxd4[0],alpha=0.5)\n",
    "ax.loglog(new_time, tophat_redback(new_time, redshift=0.01,  thv= 0.5, loge0=49.5 , thc= 0.06, logn0=0.5, p=2.3, \n",
    "    logepse=-1.25, logepsb=-2.5, xiN=1, g0=1000,frequency= 3e14, output_format='flux_density'), c='k',alpha=0.4)# marker='o', markersize=2)\n",
    "#plt.xlim(10,50)\n",
    "#plt.ylim(10e-8,10e-5)\n",
    "plt.show()"
   ]
  },
  {
   "cell_type": "code",
   "execution_count": 183,
   "id": "9a1a0020-d38e-4188-918d-2bb039cb3fae",
   "metadata": {},
   "outputs": [
    {
     "name": "stdout",
     "output_type": "stream",
     "text": [
      "228 µs ± 17.1 µs per loop (mean ± std. dev. of 7 runs, 1,000 loops each)\n"
     ]
    }
   ],
   "source": [
    "%%timeit\n",
    "prediction= model.predict(xtests) #3#4"
   ]
  },
  {
   "cell_type": "code",
   "execution_count": 184,
   "id": "c5df82af-da84-435d-a7c9-680847aba749",
   "metadata": {},
   "outputs": [
    {
     "name": "stdout",
     "output_type": "stream",
     "text": [
      "222 µs ± 10.7 µs per loop (mean ± std. dev. of 7 runs, 1,000 loops each)\n"
     ]
    }
   ],
   "source": [
    "%%timeit\n",
    "prediction= model2.predict(xtests) #4#3"
   ]
  },
  {
   "cell_type": "code",
   "execution_count": 185,
   "id": "8b776b41-6076-4e28-a708-6be7dd8ad001",
   "metadata": {},
   "outputs": [
    {
     "name": "stdout",
     "output_type": "stream",
     "text": [
      "225 µs ± 13.5 µs per loop (mean ± std. dev. of 7 runs, 1,000 loops each)\n"
     ]
    }
   ],
   "source": [
    "%%timeit\n",
    "prediction= model3.predict(xtests) #2#1"
   ]
  },
  {
   "cell_type": "code",
   "execution_count": 187,
   "id": "52e391b1-107c-40e3-a8e1-6d561d928688",
   "metadata": {},
   "outputs": [
    {
     "name": "stdout",
     "output_type": "stream",
     "text": [
      "221 µs ± 12.5 µs per loop (mean ± std. dev. of 7 runs, 1,000 loops each)\n"
     ]
    }
   ],
   "source": [
    "%%timeit\n",
    "prediction= model4.predict(xtests) #1#2"
   ]
  },
  {
   "cell_type": "code",
   "execution_count": 109,
   "id": "e52acdc9-56fc-4494-a5e7-d03278eb6ec5",
   "metadata": {},
   "outputs": [
    {
     "data": {
      "text/plain": [
       "0.012160672"
      ]
     },
     "execution_count": 109,
     "metadata": {},
     "output_type": "execute_result"
    }
   ],
   "source": [
    "12160672.0*1e-9"
   ]
  },
  {
   "cell_type": "code",
   "execution_count": 110,
   "id": "78c80574-6e44-489d-9ad2-89f21eecd504",
   "metadata": {},
   "outputs": [
    {
     "data": {
      "text/plain": [
       "0.000765"
      ]
     },
     "execution_count": 110,
     "metadata": {},
     "output_type": "execute_result"
    }
   ],
   "source": [
    "765*1e-6"
   ]
  },
  {
   "cell_type": "code",
   "execution_count": null,
   "id": "64ac9d6a-d789-47cd-b0bd-40a141d974fd",
   "metadata": {},
   "outputs": [],
   "source": []
  }
 ],
 "metadata": {
  "kernelspec": {
   "display_name": "Python 3 (ipykernel)",
   "language": "python",
   "name": "python3"
  },
  "language_info": {
   "codemirror_mode": {
    "name": "ipython",
    "version": 3
   },
   "file_extension": ".py",
   "mimetype": "text/x-python",
   "name": "python",
   "nbconvert_exporter": "python",
   "pygments_lexer": "ipython3",
   "version": "3.9.17"
  }
 },
 "nbformat": 4,
 "nbformat_minor": 5
}
